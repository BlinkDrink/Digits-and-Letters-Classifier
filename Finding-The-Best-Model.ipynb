{
 "cells": [
  {
   "cell_type": "code",
   "execution_count": 1,
   "metadata": {},
   "outputs": [],
   "source": [
    "import numpy as np\n",
    "import pandas as pd\n",
    "\n",
    "from tensorflow import keras\n",
    "\n",
    "from tensorflow.keras.models import Sequential\n",
    "from tensorflow.keras.layers import Dense, Flatten, Conv2D, Dropout, MaxPooling2D, BatchNormalization\n",
    "from matplotlib import pyplot as plt"
   ]
  },
  {
   "cell_type": "markdown",
   "metadata": {},
   "source": [
    "### Set seed for random number generator\n",
    "Setting the seed number will result in reproducable output. Therefore, the effects of changing anything but the model can be compared."
   ]
  },
  {
   "cell_type": "code",
   "execution_count": 2,
   "metadata": {},
   "outputs": [],
   "source": [
    "from numpy.random import seed\n",
    "seed(1)"
   ]
  },
  {
   "cell_type": "markdown",
   "metadata": {},
   "source": [
    "# Loading the data\n",
    "\n",
    "### The MNIST dataset is structured as follows:\n",
    "\n",
    "    -785 columns\n",
    "    -First column = class_label\n",
    "    -Each column after represents one pixel value (784 total for a 28 x 28 image)"
   ]
  },
  {
   "cell_type": "code",
   "execution_count": 3,
   "metadata": {},
   "outputs": [],
   "source": [
    "# Data params\n",
    "train_file = \"./data/emnist-balanced-train.csv\"\n",
    "test_file = \"./data/emnist-balanced-test.csv\"\n",
    "\n",
    "classes = '0123456789ABCDEFGHIJKLMNOPQRSTUVWXYZabdefghnqrt'"
   ]
  },
  {
   "cell_type": "code",
   "execution_count": 4,
   "metadata": {},
   "outputs": [],
   "source": [
    "num_classes = len(classes) \n",
    "img_size = 28\n",
    "\n",
    "def img_label_load(data_path, num_classes=None):\n",
    "    data = pd.read_csv(data_path, header=None)\n",
    "    data_rows = len(data)\n",
    "    \n",
    "    if not num_classes:\n",
    "        num_classes = len(data[0].unique())\n",
    "    \n",
    "    # Assuming 28x28 images\n",
    "    img_size = int(np.sqrt(len(data.iloc[0][1:])))\n",
    "    \n",
    "    imgs = np.transpose(data.values[:,1:].reshape(data_rows, img_size, img_size, 1), axes=[0,2,1,3])\n",
    "    \n",
    "    labels = keras.utils.to_categorical(data.values[:,0], num_classes) # one-hot encoding vectors\n",
    "    \n",
    "    return imgs/255., labels"
   ]
  },
  {
   "cell_type": "markdown",
   "metadata": {},
   "source": [
    "## Model evaluation"
   ]
  },
  {
   "cell_type": "code",
   "execution_count": 16,
   "metadata": {},
   "outputs": [],
   "source": [
    "## Evaluate model with the test dataset\n",
    "def evaluate_model(model, x_test, y_test):\n",
    "    result = model.evaluate(x_test, y_test)\n",
    "    return \"The accuracy of the model is: \" + str(result[1]) + \" The loss of the model is: \" + str(result[0])"
   ]
  },
  {
   "cell_type": "code",
   "execution_count": 6,
   "metadata": {},
   "outputs": [],
   "source": [
    "## Plot the training history\n",
    "def plot_history(history):\n",
    "    acc = history.history['accuracy']\n",
    "    val_acc = history.history['val_accuracy']\n",
    "    loss = history.history['loss']\n",
    "    val_loss = history.history['val_loss']\n",
    "\n",
    "    epochs = range(1, len(acc) + 1)\n",
    "\n",
    "    plt.plot(epochs, loss, 'bo', label='Training loss')\n",
    "    plt.plot(epochs, acc, 'b', label='Training accuracy')\n",
    "\n",
    "    plt.plot(epochs, val_loss, 'ro', label='Validation loss')\n",
    "    plt.plot(epochs, val_acc, 'r', label='Validation accuracy')\n",
    "    plt.title('Training and validation loss')\n",
    "    plt.xlabel('Epochs')\n",
    "    plt.ylabel('Loss')\n",
    "    plt.legend()\n",
    "\n",
    "    plt.show()"
   ]
  },
  {
   "cell_type": "markdown",
   "metadata": {},
   "source": [
    "## Reading data for training"
   ]
  },
  {
   "cell_type": "code",
   "execution_count": 7,
   "metadata": {},
   "outputs": [],
   "source": [
    "x_train, y_train = img_label_load(train_file)"
   ]
  },
  {
   "cell_type": "code",
   "execution_count": 8,
   "metadata": {},
   "outputs": [
    {
     "name": "stdout",
     "output_type": "stream",
     "text": [
      "(112800, 28, 28, 1)\n",
      "(112800, 47)\n"
     ]
    }
   ],
   "source": [
    "print(x_train.shape)\n",
    "print(y_train.shape)"
   ]
  },
  {
   "cell_type": "markdown",
   "metadata": {},
   "source": [
    "## Reading data for testing"
   ]
  },
  {
   "cell_type": "code",
   "execution_count": 9,
   "metadata": {},
   "outputs": [],
   "source": [
    "x_test, y_test = img_label_load(test_file)"
   ]
  },
  {
   "cell_type": "code",
   "execution_count": 10,
   "metadata": {},
   "outputs": [
    {
     "name": "stdout",
     "output_type": "stream",
     "text": [
      "(18800, 28, 28, 1)\n",
      "(18800, 47)\n"
     ]
    }
   ],
   "source": [
    "print(x_test.shape)\n",
    "print(y_test.shape)"
   ]
  },
  {
   "cell_type": "markdown",
   "metadata": {},
   "source": [
    "# Starting off with a simple model"
   ]
  },
  {
   "cell_type": "code",
   "execution_count": 11,
   "metadata": {},
   "outputs": [],
   "source": [
    "def create_basic_model():\n",
    "\n",
    "    model = Sequential()\n",
    "    model.add(Conv2D(32, kernel_size=(3, 3), strides=1,activation='relu'))\n",
    "    model.add(Conv2D(32, (3, 3), activation='relu', strides=1))\n",
    "    model.add(Flatten())\n",
    "    \n",
    "    model.add(Dense(128, activation='relu'))\n",
    "    model.add(Dense(num_classes, activation='softmax'))\n",
    "\n",
    "    model.compile(loss=keras.losses.categorical_crossentropy,\n",
    "                  optimizer='adam',\n",
    "                  metrics=['accuracy'])\n",
    "    \n",
    "    return model"
   ]
  },
  {
   "cell_type": "markdown",
   "metadata": {},
   "source": [
    "### Training the basic model"
   ]
  },
  {
   "cell_type": "code",
   "execution_count": 13,
   "metadata": {},
   "outputs": [
    {
     "name": "stdout",
     "output_type": "stream",
     "text": [
      "Train on 90240 samples, validate on 22560 samples\n",
      "Epoch 1/10\n",
      "90240/90240 [==============================] - 9s 104us/sample - loss: 0.8027 - accuracy: 0.7592 - val_loss: 0.4985 - val_accuracy: 0.8333\n",
      "Epoch 2/10\n",
      "90240/90240 [==============================] - 6s 72us/sample - loss: 0.4322 - accuracy: 0.8554 - val_loss: 0.4304 - val_accuracy: 0.8498\n",
      "Epoch 3/10\n",
      "90240/90240 [==============================] - 7s 75us/sample - loss: 0.3461 - accuracy: 0.8788 - val_loss: 0.4094 - val_accuracy: 0.8588\n",
      "Epoch 4/10\n",
      "90240/90240 [==============================] - 7s 73us/sample - loss: 0.2869 - accuracy: 0.8948 - val_loss: 0.4325 - val_accuracy: 0.8550\n",
      "Epoch 5/10\n",
      "90240/90240 [==============================] - 6s 71us/sample - loss: 0.2374 - accuracy: 0.9104 - val_loss: 0.4292 - val_accuracy: 0.8537\n",
      "Epoch 6/10\n",
      "90240/90240 [==============================] - 6s 71us/sample - loss: 0.1939 - accuracy: 0.9241 - val_loss: 0.4679 - val_accuracy: 0.8534\n",
      "Epoch 7/10\n",
      "90240/90240 [==============================] - 6s 71us/sample - loss: 0.1614 - accuracy: 0.9357 - val_loss: 0.5033 - val_accuracy: 0.8526\n",
      "Epoch 8/10\n",
      "90240/90240 [==============================] - 6s 71us/sample - loss: 0.1362 - accuracy: 0.9444 - val_loss: 0.5715 - val_accuracy: 0.8463\n",
      "Epoch 9/10\n",
      "90240/90240 [==============================] - 6s 72us/sample - loss: 0.1153 - accuracy: 0.9525 - val_loss: 0.5995 - val_accuracy: 0.8457\n",
      "Epoch 10/10\n",
      "90240/90240 [==============================] - 6s 71us/sample - loss: 0.1019 - accuracy: 0.9585 - val_loss: 0.6369 - val_accuracy: 0.8486\n"
     ]
    }
   ],
   "source": [
    "batch_size = 128\n",
    "\n",
    "basic_model = create_basic_model()\n",
    "basic_history = basic_model.fit(x_train, y_train,\n",
    "          batch_size = batch_size,\n",
    "          epochs = 10,\n",
    "          validation_split = 0.2)"
   ]
  },
  {
   "cell_type": "code",
   "execution_count": 14,
   "metadata": {},
   "outputs": [
    {
     "data": {
      "image/png": "[encoded data removed]",
      "text/plain": [
       "<Figure size 432x288 with 1 Axes>"
      ]
     },
     "metadata": {
      "needs_background": "light"
     },
     "output_type": "display_data"
    }
   ],
   "source": [
    "plot_history(basic_history)"
   ]
  },
  {
   "cell_type": "code",
   "execution_count": 17,
   "metadata": {},
   "outputs": [
    {
     "name": "stdout",
     "output_type": "stream",
     "text": [
      "18800/18800 [==============================] - 2s 93us/sample - loss: 0.6673 - accuracy: 0.8468\n"
     ]
    },
    {
     "data": {
      "text/plain": [
       "'The accuracy of the model is: 0.8467553 The loss of the model is: 0.667293496559909'"
      ]
     },
     "execution_count": 17,
     "metadata": {},
     "output_type": "execute_result"
    }
   ],
   "source": [
    "evaluate_model(basic_model, x_test, y_test)"
   ]
  },
  {
   "cell_type": "markdown",
   "metadata": {},
   "source": [
    "As seen above, the model can’t generalize on the training dataset well, because the result on the validation data is not similar. I will add batch normalization after each convolution.\n",
    "\n",
    "## Creating another model with batch normalization after each convolution layer"
   ]
  },
  {
   "cell_type": "code",
   "execution_count": 19,
   "metadata": {},
   "outputs": [],
   "source": [
    "def create_basic_model_with_reg():\n",
    "    model = Sequential()\n",
    "    model.add(Conv2D(32, kernel_size=(3, 3), strides=1,activation='relu', input_shape = (28, 28, 1)))\n",
    "    model.add(BatchNormalization())\n",
    "    model.add(Conv2D(32, (3, 3), activation='relu', strides=1))\n",
    "    model.add(BatchNormalization())\n",
    "    model.add(Flatten())\n",
    "    model.add(Dense(128, activation='relu'))\n",
    "    model.add(Dense(num_classes, activation='softmax'))\n",
    "\n",
    "\n",
    "    model.compile(loss=keras.losses.categorical_crossentropy,\n",
    "                  optimizer='adam',\n",
    "                  metrics=['accuracy'])\n",
    "    \n",
    "    return model"
   ]
  },
  {
   "cell_type": "markdown",
   "metadata": {},
   "source": [
    "### Training the with added batch normalization model"
   ]
  },
  {
   "cell_type": "code",
   "execution_count": 21,
   "metadata": {},
   "outputs": [
    {
     "name": "stdout",
     "output_type": "stream",
     "text": [
      "Train on 90240 samples, validate on 22560 samples\n",
      "Epoch 1/10\n",
      "90240/90240 [==============================] - 9s 100us/sample - loss: 0.8203 - accuracy: 0.7588 - val_loss: 0.5556 - val_accuracy: 0.8116\n",
      "Epoch 2/10\n",
      "90240/90240 [==============================] - 8s 87us/sample - loss: 0.3925 - accuracy: 0.8629 - val_loss: 0.4720 - val_accuracy: 0.8392\n",
      "Epoch 3/10\n",
      "90240/90240 [==============================] - 8s 84us/sample - loss: 0.2749 - accuracy: 0.8969 - val_loss: 0.5527 - val_accuracy: 0.8297\n",
      "Epoch 4/10\n",
      "90240/90240 [==============================] - 8s 86us/sample - loss: 0.2060 - accuracy: 0.9192 - val_loss: 0.5567 - val_accuracy: 0.8395\n",
      "Epoch 5/10\n",
      "90240/90240 [==============================] - 8s 84us/sample - loss: 0.1663 - accuracy: 0.9337 - val_loss: 0.6777 - val_accuracy: 0.8287\n",
      "Epoch 6/10\n",
      "90240/90240 [==============================] - 8s 84us/sample - loss: 0.1430 - accuracy: 0.9424 - val_loss: 0.7481 - val_accuracy: 0.8201\n",
      "Epoch 7/10\n",
      "90240/90240 [==============================] - 8s 84us/sample - loss: 0.1196 - accuracy: 0.9528 - val_loss: 0.8152 - val_accuracy: 0.8309\n",
      "Epoch 8/10\n",
      "90240/90240 [==============================] - 8s 89us/sample - loss: 0.1032 - accuracy: 0.9596 - val_loss: 0.8313 - val_accuracy: 0.8307\n",
      "Epoch 9/10\n",
      "90240/90240 [==============================] - 8s 86us/sample - loss: 0.0864 - accuracy: 0.9663 - val_loss: 0.8502 - val_accuracy: 0.8271\n",
      "Epoch 10/10\n",
      "90240/90240 [==============================] - 8s 84us/sample - loss: 0.0801 - accuracy: 0.9697 - val_loss: 0.9653 - val_accuracy: 0.8311\n"
     ]
    }
   ],
   "source": [
    "batch_size = 128\n",
    "\n",
    "basic_model_reg = create_basic_model_with_reg()\n",
    "basic_reg_history = basic_model_reg.fit(x_train, y_train,\n",
    "          batch_size = batch_size,\n",
    "          epochs = 10,\n",
    "          validation_split = 0.2)"
   ]
  },
  {
   "cell_type": "code",
   "execution_count": 22,
   "metadata": {},
   "outputs": [
    {
     "data": {
      "image/png": "[encoded data removed]",
      "text/plain": [
       "<Figure size 432x288 with 1 Axes>"
      ]
     },
     "metadata": {
      "needs_background": "light"
     },
     "output_type": "display_data"
    }
   ],
   "source": [
    "plot_history(basic_reg_history)"
   ]
  },
  {
   "cell_type": "code",
   "execution_count": 24,
   "metadata": {},
   "outputs": [
    {
     "name": "stdout",
     "output_type": "stream",
     "text": [
      "18800/18800 [==============================] - 2s 102us/sample - loss: 1.0128 - accuracy: 0.8319\n"
     ]
    },
    {
     "data": {
      "text/plain": [
       "'The accuracy of the model is: 0.8319149 The loss of the model is: 1.0127841240611481'"
      ]
     },
     "execution_count": 24,
     "metadata": {},
     "output_type": "execute_result"
    }
   ],
   "source": [
    "evaluate_model(basic_model_reg, x_test, y_test)"
   ]
  },
  {
   "cell_type": "markdown",
   "metadata": {},
   "source": [
    "The testing result has more variance in it. So adding dropout layers might help."
   ]
  },
  {
   "cell_type": "markdown",
   "metadata": {},
   "source": [
    "## Creating another model with added dropout regularization"
   ]
  },
  {
   "cell_type": "code",
   "execution_count": 25,
   "metadata": {},
   "outputs": [],
   "source": [
    "def create_basic_model_with_reg2():\n",
    "\n",
    "    model = Sequential()\n",
    "    model.add(Conv2D(32, kernel_size=(3, 3), strides=1,activation='relu', input_shape = (28, 28, 1)))\n",
    "    model.add(BatchNormalization())\n",
    "    model.add(Conv2D(32, (3, 3), activation='relu', strides=1))\n",
    "    model.add(BatchNormalization())\n",
    "    model.add(Dropout(0.4))\n",
    "    model.add(Flatten())\n",
    "    model.add(Dropout(0.4))\n",
    "    model.add(Dense(128, activation='relu'))\n",
    "    model.add(Dense(num_classes, activation='softmax'))\n",
    "\n",
    "\n",
    "    model.compile(loss=keras.losses.categorical_crossentropy,\n",
    "                  optimizer='adam',\n",
    "                  metrics=['accuracy'])\n",
    "    \n",
    "    return model"
   ]
  },
  {
   "cell_type": "markdown",
   "metadata": {},
   "source": [
    "### Training the model with dropout regularization"
   ]
  },
  {
   "cell_type": "code",
   "execution_count": 26,
   "metadata": {},
   "outputs": [
    {
     "name": "stdout",
     "output_type": "stream",
     "text": [
      "Train on 90240 samples, validate on 22560 samples\n",
      "Epoch 1/10\n",
      "90240/90240 [==============================] - 11s 116us/sample - loss: 0.9363 - accuracy: 0.7303 - val_loss: 0.5268 - val_accuracy: 0.8249\n",
      "Epoch 2/10\n",
      "90240/90240 [==============================] - 9s 99us/sample - loss: 0.4871 - accuracy: 0.8350 - val_loss: 0.4556 - val_accuracy: 0.8437\n",
      "Epoch 3/10\n",
      "90240/90240 [==============================] - 9s 102us/sample - loss: 0.4033 - accuracy: 0.8582 - val_loss: 0.4234 - val_accuracy: 0.8545\n",
      "Epoch 4/10\n",
      "90240/90240 [==============================] - 9s 100us/sample - loss: 0.3594 - accuracy: 0.8690 - val_loss: 0.4358 - val_accuracy: 0.8543\n",
      "Epoch 5/10\n",
      "90240/90240 [==============================] - 10s 112us/sample - loss: 0.3257 - accuracy: 0.8784 - val_loss: 0.4333 - val_accuracy: 0.8520\n",
      "Epoch 6/10\n",
      "90240/90240 [==============================] - 9s 102us/sample - loss: 0.3001 - accuracy: 0.8866 - val_loss: 0.4139 - val_accuracy: 0.8596\n",
      "Epoch 7/10\n",
      "90240/90240 [==============================] - 9s 98us/sample - loss: 0.2826 - accuracy: 0.8922 - val_loss: 0.4178 - val_accuracy: 0.8605\n",
      "Epoch 8/10\n",
      "90240/90240 [==============================] - 9s 100us/sample - loss: 0.2654 - accuracy: 0.8975 - val_loss: 0.4148 - val_accuracy: 0.8653\n",
      "Epoch 9/10\n",
      "90240/90240 [==============================] - 9s 99us/sample - loss: 0.2479 - accuracy: 0.9026 - val_loss: 0.4327 - val_accuracy: 0.8631\n",
      "Epoch 10/10\n",
      "90240/90240 [==============================] - 9s 98us/sample - loss: 0.2348 - accuracy: 0.9077 - val_loss: 0.4569 - val_accuracy: 0.8598\n"
     ]
    }
   ],
   "source": [
    "batch_size = 128\n",
    "\n",
    "basic_model_reg2 = create_basic_model_with_reg2()\n",
    "basic_reg2_history = basic_model_reg2.fit(x_train, y_train,\n",
    "          batch_size = batch_size,\n",
    "          epochs = 10,\n",
    "          validation_split = 0.2)"
   ]
  },
  {
   "cell_type": "markdown",
   "metadata": {},
   "source": [
    "### Plotting the history of both models and comparing them"
   ]
  },
  {
   "cell_type": "code",
   "execution_count": 27,
   "metadata": {},
   "outputs": [
    {
     "data": {
      "image/png": "[encoded data removed]",
      "text/plain": [
       "<Figure size 432x288 with 1 Axes>"
      ]
     },
     "metadata": {
      "needs_background": "light"
     },
     "output_type": "display_data"
    },
    {
     "data": {
      "image/png": "[encoded data removed]",
      "text/plain": [
       "<Figure size 432x288 with 1 Axes>"
      ]
     },
     "metadata": {
      "needs_background": "light"
     },
     "output_type": "display_data"
    }
   ],
   "source": [
    "plot_history(basic_history)\n",
    "plot_history(basic_reg2_history)"
   ]
  },
  {
   "cell_type": "code",
   "execution_count": 30,
   "metadata": {},
   "outputs": [
    {
     "name": "stdout",
     "output_type": "stream",
     "text": [
      "18800/18800 [==============================] - 2s 103us/sample - loss: 0.4674 - accuracy: 0.8606\n"
     ]
    },
    {
     "data": {
      "text/plain": [
       "'The accuracy of the model is: 0.8605851 The loss of the model is: 0.4673503104105909'"
      ]
     },
     "execution_count": 30,
     "metadata": {},
     "output_type": "execute_result"
    }
   ],
   "source": [
    "evaluate_model(basic_model_reg2, x_test, y_test)"
   ]
  },
  {
   "cell_type": "markdown",
   "metadata": {},
   "source": [
    "The variance dropped and the accuracy went up. It gives a similar result as the first, but with better validation, and test results. The problem might be the too shallow network. "
   ]
  },
  {
   "cell_type": "markdown",
   "metadata": {},
   "source": [
    "## Creating a deep and complex neural network"
   ]
  },
  {
   "cell_type": "code",
   "execution_count": 31,
   "metadata": {},
   "outputs": [],
   "source": [
    "def create_complex_model(input_size, output_size):\n",
    "    model = Sequential()\n",
    "\n",
    "    model.add(Conv2D(32, kernel_size = 3, activation='relu', input_shape = (input_size[0], input_size[1], input_size[2])))\n",
    "    model.add(BatchNormalization())\n",
    "    model.add(Conv2D(32, kernel_size = 3, activation='relu'))\n",
    "    model.add(BatchNormalization())\n",
    "    model.add(Conv2D(32, kernel_size = 5, strides=2, padding='same', activation='relu'))\n",
    "    model.add(BatchNormalization())\n",
    "    model.add(Dropout(0.4))\n",
    "\n",
    "    model.add(Conv2D(64, kernel_size = 3, activation='relu'))\n",
    "    model.add(BatchNormalization())\n",
    "    model.add(Conv2D(64, kernel_size = 3, activation='relu'))\n",
    "    model.add(BatchNormalization())\n",
    "    model.add(Conv2D(64, kernel_size = 5, strides=2, padding='same', activation='relu'))\n",
    "    model.add(BatchNormalization())\n",
    "    model.add(Dropout(0.4))\n",
    "\n",
    "    model.add(Conv2D(128, kernel_size = 4, activation='relu'))\n",
    "    model.add(BatchNormalization())\n",
    "    model.add(Flatten())\n",
    "    model.add(Dropout(0.4))\n",
    "    model.add(Dense(output_size, activation='softmax'))\n",
    "\n",
    "    model.compile(loss=keras.losses.categorical_crossentropy,\n",
    "              optimizer='adam',\n",
    "              metrics=['accuracy'])\n",
    "    \n",
    "    return model"
   ]
  },
  {
   "cell_type": "markdown",
   "metadata": {},
   "source": [
    "### Training the model "
   ]
  },
  {
   "cell_type": "code",
   "execution_count": 32,
   "metadata": {},
   "outputs": [
    {
     "name": "stdout",
     "output_type": "stream",
     "text": [
      "Train on 101520 samples, validate on 11280 samples\n",
      "Epoch 1/15\n",
      "101520/101520 [==============================] - 21s 204us/sample - loss: 0.8928 - accuracy: 0.7321 - val_loss: 0.4044 - val_accuracy: 0.8542\n",
      "Epoch 2/15\n",
      "101520/101520 [==============================] - 18s 179us/sample - loss: 0.4777 - accuracy: 0.8364 - val_loss: 0.3538 - val_accuracy: 0.8734\n",
      "Epoch 3/15\n",
      "101520/101520 [==============================] - 18s 177us/sample - loss: 0.4230 - accuracy: 0.8520 - val_loss: 0.3410 - val_accuracy: 0.8713\n",
      "Epoch 4/15\n",
      "101520/101520 [==============================] - 18s 177us/sample - loss: 0.3936 - accuracy: 0.8604 - val_loss: 0.3435 - val_accuracy: 0.8735\n",
      "Epoch 5/15\n",
      "101520/101520 [==============================] - 18s 179us/sample - loss: 0.3740 - accuracy: 0.8666 - val_loss: 0.3122 - val_accuracy: 0.8832\n",
      "Epoch 6/15\n",
      "101520/101520 [==============================] - 18s 177us/sample - loss: 0.3557 - accuracy: 0.8720 - val_loss: 0.3111 - val_accuracy: 0.8820\n",
      "Epoch 7/15\n",
      "101520/101520 [==============================] - 18s 178us/sample - loss: 0.3437 - accuracy: 0.8770 - val_loss: 0.3046 - val_accuracy: 0.8858\n",
      "Epoch 8/15\n",
      "101520/101520 [==============================] - 19s 187us/sample - loss: 0.3317 - accuracy: 0.8796 - val_loss: 0.2989 - val_accuracy: 0.8888\n",
      "Epoch 9/15\n",
      "101520/101520 [==============================] - 18s 179us/sample - loss: 0.3220 - accuracy: 0.8823 - val_loss: 0.3025 - val_accuracy: 0.8870\n",
      "Epoch 10/15\n",
      "101520/101520 [==============================] - 18s 181us/sample - loss: 0.3141 - accuracy: 0.8847 - val_loss: 0.3081 - val_accuracy: 0.8889\n",
      "Epoch 11/15\n",
      "101520/101520 [==============================] - 18s 178us/sample - loss: 0.3075 - accuracy: 0.8859 - val_loss: 0.2918 - val_accuracy: 0.8920\n",
      "Epoch 12/15\n",
      "101520/101520 [==============================] - 18s 177us/sample - loss: 0.3008 - accuracy: 0.8886 - val_loss: 0.2939 - val_accuracy: 0.8928\n",
      "Epoch 13/15\n",
      "101520/101520 [==============================] - 18s 178us/sample - loss: 0.2954 - accuracy: 0.8906 - val_loss: 0.2907 - val_accuracy: 0.8918\n",
      "Epoch 14/15\n",
      "101520/101520 [==============================] - 18s 177us/sample - loss: 0.2924 - accuracy: 0.8906 - val_loss: 0.2892 - val_accuracy: 0.8934\n",
      "Epoch 15/15\n",
      "101520/101520 [==============================] - 18s 182us/sample - loss: 0.2879 - accuracy: 0.8926 - val_loss: 0.2977 - val_accuracy: 0.8911\n"
     ]
    }
   ],
   "source": [
    "batch_size = 64\n",
    "\n",
    "complex_model = create_complex_model([img_size, img_size,1],len(classes))\n",
    "complex_history = complex_model.fit(x_train, y_train,\n",
    "          batch_size = batch_size,\n",
    "          epochs = 15,\n",
    "          validation_split = 0.1)"
   ]
  },
  {
   "cell_type": "code",
   "execution_count": 33,
   "metadata": {},
   "outputs": [
    {
     "data": {
      "image/png": "[encoded data removed]",
      "text/plain": [
       "<Figure size 432x288 with 1 Axes>"
      ]
     },
     "metadata": {
      "needs_background": "light"
     },
     "output_type": "display_data"
    }
   ],
   "source": [
    "plot_history(complex_history)"
   ]
  },
  {
   "cell_type": "markdown",
   "metadata": {},
   "source": [
    "It has the best results so far. The deeper network did a good job."
   ]
  },
  {
   "cell_type": "markdown",
   "metadata": {},
   "source": [
    "## Conclusion\n",
    "    Training convolutional neural networks is a random process. This makes experiments difficult because each time you run the same experiment, you get different results. Therefore, you must run your experiments dozens of times and take an average. And adding batch normalizaiton and data augmentation improve the CNN. For my experiment I didnt add data augmentation for the training of the complex model."
   ]
  },
  {
   "cell_type": "code",
   "execution_count": null,
   "metadata": {},
   "outputs": [],
   "source": []
  }
 ],
 "metadata": {
  "kernelspec": {
   "display_name": "Python 3",
   "language": "python",
   "name": "python3"
  },
  "language_info": {
   "codemirror_mode": {
    "name": "ipython",
    "version": 3
   },
   "file_extension": ".py",
   "mimetype": "text/x-python",
   "name": "python",
   "nbconvert_exporter": "python",
   "pygments_lexer": "ipython3",
   "version": "3.7.6"
  }
 },
 "nbformat": 4,
 "nbformat_minor": 2
}
