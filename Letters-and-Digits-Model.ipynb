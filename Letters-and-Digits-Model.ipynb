{
 "cells": [
  {
   "cell_type": "code",
   "execution_count": 1,
   "metadata": {},
   "outputs": [],
   "source": [
    "import numpy as np\n",
    "import tensorflow as tf\n",
    "import pandas as pd\n",
    "import math\n",
    "\n",
    "from tensorflow import keras\n",
    "\n",
    "from tensorflow.keras.models import Sequential\n",
    "from tensorflow.keras.layers import Dense, Flatten, Conv2D, Dropout, MaxPooling2D, BatchNormalization\n",
    "from tensorflow.keras.preprocessing.image import ImageDataGenerator\n",
    "\n",
    "from PIL import Image, ImageFilter\n",
    "\n",
    "from matplotlib import pyplot as plt"
   ]
  },
  {
   "cell_type": "markdown",
   "metadata": {},
   "source": [
    "# Preparing and Loading the Data \n",
    "## The MNIST dataset is structured as follows:\n",
    "\n",
    "    - 785 columns\n",
    "    - First column = class_label\n",
    "    - Each column after represents one pixel value (784 total for a 28 x 28 image)"
   ]
  },
  {
   "cell_type": "code",
   "execution_count": 2,
   "metadata": {},
   "outputs": [],
   "source": [
    "# Data parameters\n",
    "train_path = './data/emnist-balanced-train.csv'\n",
    "test_path = './data/emnist-balanced-test.csv'\n",
    "\n",
    "classes = '0123456789ABCDEFGHIJKLMNOPQRSTUVWXYZabdefghnqrt'#47 classes. Not including some of the lower-case letters because \n",
    "                                                           #their capital letter and lower-case letter are the same."
   ]
  },
  {
   "cell_type": "markdown",
   "metadata": {},
   "source": [
    "## By default the EMNIST images are flipped.\n",
    "### Using a function to pre-process the data to be ready for the classifier."
   ]
  },
  {
   "cell_type": "code",
   "execution_count": 18,
   "metadata": {},
   "outputs": [],
   "source": [
    "num_classes = 47 \n",
    "img_size = 28\n",
    "\n",
    "def img_label_load(data_path, num_classes=None):\n",
    "    data = pd.read_csv(data_path, header=None)\n",
    "    data_rows = len(data)\n",
    "    \n",
    "    if not num_classes:\n",
    "        num_classes = len(data[0].unique())\n",
    "    \n",
    "    # Assuming 28x28 images\n",
    "    img_size = int(np.sqrt(len(data.iloc[0][1:])))\n",
    "    \n",
    "    imgs = np.transpose(data.values[:,1:].reshape(data_rows, img_size, img_size, 1), axes=[0,2,1,3])\n",
    "    \n",
    "    labels = keras.utils.to_categorical(data.values[:,0], num_classes) # one-hot encoding vectors\n",
    "    \n",
    "    return imgs/255., labels"
   ]
  },
  {
   "cell_type": "code",
   "execution_count": 19,
   "metadata": {},
   "outputs": [],
   "source": [
    "## Convert One-Hot-Encoded values back to real values\n",
    "def decode_label(binary_encoded_label):\n",
    "    return np.argmax(binary_encoded_label)"
   ]
  },
  {
   "cell_type": "code",
   "execution_count": 20,
   "metadata": {},
   "outputs": [],
   "source": [
    "## Plot the image with it's correct value\n",
    "def show_img(img,label):\n",
    "    plt.title('Label: ' + str(classes[decode_label(label)]))\n",
    "    plt.imshow(img, cmap='Greys_r')  #-1 here if we have skipped the first row"
   ]
  },
  {
   "cell_type": "markdown",
   "metadata": {},
   "source": [
    "# Model evaluation function"
   ]
  },
  {
   "cell_type": "code",
   "execution_count": 21,
   "metadata": {},
   "outputs": [],
   "source": [
    "## Evaluate model with the test dataset\n",
    "def evaluate_model(model,x_test,y_test):\n",
    "    result = model.evaluate(x_test, y_test)\n",
    "    print(\"The accuracy of the model is: \",result[1])\n",
    "    return result"
   ]
  },
  {
   "cell_type": "markdown",
   "metadata": {},
   "source": [
    "## Plotting function"
   ]
  },
  {
   "cell_type": "code",
   "execution_count": 22,
   "metadata": {},
   "outputs": [],
   "source": [
    "## Plot the training history\n",
    "def plot_history(history):\n",
    "    acc = history.history[\"accuracy\"]\n",
    "    val_acc = history.history['val_accuracy']\n",
    "    loss = history.history['loss']\n",
    "    val_loss = history.history['val_loss']\n",
    "\n",
    "    epochs = range(1, len(acc) + 1)\n",
    "    \n",
    "    #Plot training loss and accuracy\n",
    "    plt.plot(epochs, loss, 'r', label='Training loss')\n",
    "    plt.plot(epochs, val_loss, 'b', label='Validation loss')\n",
    "    plt.title('Training loss and Validation Loss')\n",
    "    plt.xlabel('Epochs')\n",
    "    plt.ylabel('Loss')\n",
    "    plt.legend()\n",
    "    \n",
    "    plt.show()\n",
    "    \n",
    "    #Plot validation loss and accuracy\n",
    "    plt.plot(epochs, acc, 'g', label='Training accuracy')\n",
    "    plt.plot(epochs, val_acc, 'y', label='Validation accuracy')\n",
    "    \n",
    "    plt.title('Validation accuracy and training accuracy')\n",
    "    plt.xlabel('Epochs')\n",
    "    plt.ylabel('Accuracy')\n",
    "    plt.legend()\n",
    "    \n",
    "\n",
    "    plt.show()"
   ]
  },
  {
   "cell_type": "markdown",
   "metadata": {},
   "source": [
    "## Reading train data"
   ]
  },
  {
   "cell_type": "code",
   "execution_count": 23,
   "metadata": {},
   "outputs": [],
   "source": [
    "x_train, y_train = img_label_load(train_path)"
   ]
  },
  {
   "cell_type": "code",
   "execution_count": 24,
   "metadata": {},
   "outputs": [
    {
     "name": "stdout",
     "output_type": "stream",
     "text": [
      "(112800, 28, 28, 1)\n"
     ]
    },
    {
     "data": {
      "text/plain": [
       "(112800, 47)"
      ]
     },
     "execution_count": 24,
     "metadata": {},
     "output_type": "execute_result"
    }
   ],
   "source": [
    "print(x_train.shape)\n",
    "y_train.shape"
   ]
  },
  {
   "cell_type": "markdown",
   "metadata": {},
   "source": [
    "## Checking what the data looks like"
   ]
  },
  {
   "cell_type": "code",
   "execution_count": 25,
   "metadata": {},
   "outputs": [
    {
     "data": {
      "image/png": "[encoded data removed]",
      "text/plain": [
       "<Figure size 1224x324 with 30 Axes>"
      ]
     },
     "metadata": {
      "needs_background": "light"
     },
     "output_type": "display_data"
    }
   ],
   "source": [
    "fig = plt.figure(figsize=(17,4.5))\n",
    "for i in range(30):\n",
    "    \n",
    "    fig.add_subplot(3,10,i+1)\n",
    "    plt.axis('off')\n",
    "    show_img(np.squeeze(x_train[i]),y_train[i])\n",
    "plt.subplots_adjust(wspace=0.3, hspace=0.3)"
   ]
  },
  {
   "cell_type": "markdown",
   "metadata": {},
   "source": [
    "# Creating the model architecture"
   ]
  },
  {
   "cell_type": "code",
   "execution_count": 28,
   "metadata": {},
   "outputs": [],
   "source": [
    "def create_model(input_size, output_size):\n",
    "    model = Sequential()\n",
    "\n",
    "    model.add(Conv2D(32, kernel_size = 3, activation='relu', input_shape = (input_size[0], input_size[1], input_size[2])))\n",
    "    model.add(BatchNormalization())\n",
    "    model.add(Conv2D(32, kernel_size = 3, activation='relu'))\n",
    "    model.add(BatchNormalization())\n",
    "    model.add(Conv2D(32, kernel_size = 5, strides=2, padding='same', activation='relu'))\n",
    "    model.add(BatchNormalization())\n",
    "    model.add(Dropout(0.4))\n",
    "\n",
    "    model.add(Conv2D(64, kernel_size = 3, activation='relu'))\n",
    "    model.add(BatchNormalization())\n",
    "    model.add(Conv2D(64, kernel_size = 3, activation='relu'))\n",
    "    model.add(BatchNormalization())\n",
    "    model.add(Conv2D(64, kernel_size = 5, strides=2, padding='same', activation='relu'))\n",
    "    model.add(BatchNormalization())\n",
    "    model.add(Dropout(0.4))\n",
    "\n",
    "    model.add(Conv2D(128, kernel_size = 4, activation='relu'))\n",
    "    model.add(BatchNormalization())\n",
    "    model.add(Flatten())\n",
    "    model.add(Dropout(0.4))\n",
    "    model.add(Dense(output_size, activation='softmax'))\n",
    "\n",
    "    model.compile(loss=keras.losses.categorical_crossentropy,\n",
    "              optimizer='adam',\n",
    "              metrics=['accuracy'])\n",
    "    \n",
    "    return model"
   ]
  },
  {
   "cell_type": "markdown",
   "metadata": {},
   "source": [
    "## Training the model"
   ]
  },
  {
   "cell_type": "code",
   "execution_count": 29,
   "metadata": {},
   "outputs": [
    {
     "name": "stdout",
     "output_type": "stream",
     "text": [
      "Model: \"sequential_1\"\n",
      "_________________________________________________________________\n",
      "Layer (type)                 Output Shape              Param #   \n",
      "=================================================================\n",
      "conv2d_7 (Conv2D)            (None, 26, 26, 32)        320       \n",
      "_________________________________________________________________\n",
      "batch_normalization_7 (Batch (None, 26, 26, 32)        128       \n",
      "_________________________________________________________________\n",
      "conv2d_8 (Conv2D)            (None, 24, 24, 32)        9248      \n",
      "_________________________________________________________________\n",
      "batch_normalization_8 (Batch (None, 24, 24, 32)        128       \n",
      "_________________________________________________________________\n",
      "conv2d_9 (Conv2D)            (None, 12, 12, 32)        25632     \n",
      "_________________________________________________________________\n",
      "batch_normalization_9 (Batch (None, 12, 12, 32)        128       \n",
      "_________________________________________________________________\n",
      "dropout_3 (Dropout)          (None, 12, 12, 32)        0         \n",
      "_________________________________________________________________\n",
      "conv2d_10 (Conv2D)           (None, 10, 10, 64)        18496     \n",
      "_________________________________________________________________\n",
      "batch_normalization_10 (Batc (None, 10, 10, 64)        256       \n",
      "_________________________________________________________________\n",
      "conv2d_11 (Conv2D)           (None, 8, 8, 64)          36928     \n",
      "_________________________________________________________________\n",
      "batch_normalization_11 (Batc (None, 8, 8, 64)          256       \n",
      "_________________________________________________________________\n",
      "conv2d_12 (Conv2D)           (None, 4, 4, 64)          102464    \n",
      "_________________________________________________________________\n",
      "batch_normalization_12 (Batc (None, 4, 4, 64)          256       \n",
      "_________________________________________________________________\n",
      "dropout_4 (Dropout)          (None, 4, 4, 64)          0         \n",
      "_________________________________________________________________\n",
      "conv2d_13 (Conv2D)           (None, 1, 1, 128)         131200    \n",
      "_________________________________________________________________\n",
      "batch_normalization_13 (Batc (None, 1, 1, 128)         512       \n",
      "_________________________________________________________________\n",
      "flatten_1 (Flatten)          (None, 128)               0         \n",
      "_________________________________________________________________\n",
      "dropout_5 (Dropout)          (None, 128)               0         \n",
      "_________________________________________________________________\n",
      "dense_1 (Dense)              (None, 47)                6063      \n",
      "=================================================================\n",
      "Total params: 332,015\n",
      "Trainable params: 331,183\n",
      "Non-trainable params: 832\n",
      "_________________________________________________________________\n",
      "Train on 101520 samples, validate on 11280 samples\n",
      "Epoch 1/15\n",
      "101520/101520 [==============================] - 26s 252us/sample - loss: 0.8847 - accuracy: 0.7329 - val_loss: 0.3941 - val_accuracy: 0.8594\n",
      "Epoch 2/15\n",
      "101520/101520 [==============================] - 18s 179us/sample - loss: 0.4738 - accuracy: 0.8391 - val_loss: 0.3670 - val_accuracy: 0.8652\n",
      "Epoch 3/15\n",
      "101520/101520 [==============================] - 18s 177us/sample - loss: 0.4225 - accuracy: 0.8525 - val_loss: 0.3767 - val_accuracy: 0.8597\n",
      "Epoch 4/15\n",
      "101520/101520 [==============================] - 18s 176us/sample - loss: 0.3912 - accuracy: 0.8620 - val_loss: 0.3205 - val_accuracy: 0.8825\n",
      "Epoch 5/15\n",
      "101520/101520 [==============================] - 18s 176us/sample - loss: 0.3680 - accuracy: 0.8682 - val_loss: 0.3192 - val_accuracy: 0.8789\n",
      "Epoch 6/15\n",
      "101520/101520 [==============================] - 18s 175us/sample - loss: 0.3542 - accuracy: 0.8730 - val_loss: 0.3122 - val_accuracy: 0.8846\n",
      "Epoch 7/15\n",
      "101520/101520 [==============================] - 18s 176us/sample - loss: 0.3424 - accuracy: 0.8765 - val_loss: 0.3004 - val_accuracy: 0.8894\n",
      "Epoch 8/15\n",
      "101520/101520 [==============================] - 18s 176us/sample - loss: 0.3312 - accuracy: 0.8804 - val_loss: 0.2999 - val_accuracy: 0.8845\n",
      "Epoch 9/15\n",
      "101520/101520 [==============================] - 18s 175us/sample - loss: 0.3206 - accuracy: 0.8827 - val_loss: 0.3030 - val_accuracy: 0.8892\n",
      "Epoch 10/15\n",
      "101520/101520 [==============================] - 18s 175us/sample - loss: 0.3132 - accuracy: 0.8858 - val_loss: 0.2970 - val_accuracy: 0.8897\n",
      "Epoch 11/15\n",
      "101520/101520 [==============================] - 18s 175us/sample - loss: 0.3068 - accuracy: 0.8875 - val_loss: 0.3029 - val_accuracy: 0.8867\n",
      "Epoch 12/15\n",
      "101520/101520 [==============================] - 18s 176us/sample - loss: 0.2978 - accuracy: 0.8897 - val_loss: 0.3002 - val_accuracy: 0.8887\n",
      "Epoch 13/15\n",
      "101520/101520 [==============================] - 18s 176us/sample - loss: 0.2945 - accuracy: 0.8907 - val_loss: 0.2861 - val_accuracy: 0.8943\n",
      "Epoch 14/15\n",
      "101520/101520 [==============================] - 18s 175us/sample - loss: 0.2897 - accuracy: 0.8926 - val_loss: 0.2958 - val_accuracy: 0.8902\n",
      "Epoch 15/15\n",
      "101520/101520 [==============================] - 18s 176us/sample - loss: 0.2858 - accuracy: 0.8940 - val_loss: 0.2839 - val_accuracy: 0.8935\n"
     ]
    }
   ],
   "source": [
    "batch_size = 64\n",
    "\n",
    "model = create_model([img_size, img_size,1],len(classes))\n",
    "model.summary()\n",
    "history = model.fit(x_train, y_train,\n",
    "          batch_size = batch_size,\n",
    "          epochs = 15,\n",
    "          validation_split = 0.1)\n"
   ]
  },
  {
   "cell_type": "markdown",
   "metadata": {},
   "source": [
    "# Plotting the accuracy and loss of the model"
   ]
  },
  {
   "cell_type": "code",
   "execution_count": 30,
   "metadata": {},
   "outputs": [
    {
     "data": {
      "image/png": "[encoded data removed]",
      "text/plain": [
       "<Figure size 432x288 with 1 Axes>"
      ]
     },
     "metadata": {
      "needs_background": "light"
     },
     "output_type": "display_data"
    },
    {
     "data": {
      "image/png": "[encoded data removed]",
      "text/plain": [
       "<Figure size 432x288 with 1 Axes>"
      ]
     },
     "metadata": {
      "needs_background": "light"
     },
     "output_type": "display_data"
    }
   ],
   "source": [
    "plot_history(history)"
   ]
  },
  {
   "cell_type": "markdown",
   "metadata": {},
   "source": [
    "## Running evaluation on the model"
   ]
  },
  {
   "cell_type": "code",
   "execution_count": 31,
   "metadata": {},
   "outputs": [
    {
     "name": "stdout",
     "output_type": "stream",
     "text": [
      "(18800, 28, 28, 1)\n",
      "(18800, 47)\n"
     ]
    }
   ],
   "source": [
    "x_test, y_test = img_label_load(test_path)\n",
    "print(x_test.shape)\n",
    "print(y_test.shape)"
   ]
  },
  {
   "cell_type": "code",
   "execution_count": 32,
   "metadata": {},
   "outputs": [
    {
     "name": "stdout",
     "output_type": "stream",
     "text": [
      "18800/18800 [==============================] - 3s 133us/sample - loss: 0.2983 - accuracy: 0.8959\n",
      "The accuracy of the model is:  0.8958511\n"
     ]
    },
    {
     "data": {
      "text/plain": [
       "[0.29827679769472876, 0.8958511]"
      ]
     },
     "execution_count": 32,
     "metadata": {},
     "output_type": "execute_result"
    }
   ],
   "source": [
    "evaluate_model(model, x_test, y_test)"
   ]
  },
  {
   "cell_type": "markdown",
   "metadata": {},
   "source": [
    "## Saving the model"
   ]
  },
  {
   "cell_type": "code",
   "execution_count": 33,
   "metadata": {},
   "outputs": [],
   "source": [
    "model.save('./models/letters_and_digits_89.h5')"
   ]
  },
  {
   "cell_type": "markdown",
   "metadata": {},
   "source": [
    "## Adding data augmentation."
   ]
  },
  {
   "cell_type": "code",
   "execution_count": 34,
   "metadata": {},
   "outputs": [
    {
     "name": "stdout",
     "output_type": "stream",
     "text": [
      "Epoch 1/10\n",
      "1024/1024 [==============================] - 75s 73ms/step - loss: 1.3768 - accuracy: 0.6096 - val_loss: 0.6065 - val_accuracy: 0.8006\n",
      "Epoch 2/10\n",
      "1024/1024 [==============================] - 71s 70ms/step - loss: 0.6579 - accuracy: 0.7838 - val_loss: 0.4496 - val_accuracy: 0.8436\n",
      "Epoch 3/10\n",
      "1024/1024 [==============================] - 72s 70ms/step - loss: 0.5703 - accuracy: 0.8099 - val_loss: 0.4082 - val_accuracy: 0.8544\n",
      "Epoch 4/10\n",
      "1024/1024 [==============================] - 71s 70ms/step - loss: 0.5064 - accuracy: 0.8278 - val_loss: 0.3883 - val_accuracy: 0.8662\n",
      "Epoch 5/10\n",
      "1024/1024 [==============================] - 71s 70ms/step - loss: 0.4909 - accuracy: 0.8301 - val_loss: 0.3692 - val_accuracy: 0.8735\n",
      "Epoch 6/10\n",
      "1024/1024 [==============================] - 71s 70ms/step - loss: 0.4695 - accuracy: 0.8374 - val_loss: 0.3916 - val_accuracy: 0.8665\n",
      "Epoch 7/10\n",
      "1024/1024 [==============================] - 71s 70ms/step - loss: 0.4391 - accuracy: 0.8455 - val_loss: 0.3625 - val_accuracy: 0.8694\n",
      "Epoch 8/10\n",
      "1024/1024 [==============================] - 71s 70ms/step - loss: 0.4444 - accuracy: 0.8475 - val_loss: 0.3476 - val_accuracy: 0.8793\n",
      "Epoch 9/10\n",
      "1024/1024 [==============================] - 71s 70ms/step - loss: 0.4184 - accuracy: 0.8521 - val_loss: 0.3415 - val_accuracy: 0.8798\n",
      "Epoch 10/10\n",
      "1024/1024 [==============================] - 71s 69ms/step - loss: 0.4084 - accuracy: 0.8582 - val_loss: 0.3438 - val_accuracy: 0.8792\n"
     ]
    }
   ],
   "source": [
    "data_generator = keras.preprocessing.image.ImageDataGenerator(validation_split=.2)\n",
    "\n",
    "data_generator_with_aug = keras.preprocessing.image.ImageDataGenerator(validation_split=.2,\n",
    "                                            width_shift_range=.2, height_shift_range=.2,\n",
    "                                            rotation_range=20, zoom_range=.2, shear_range=.3)\n",
    "\n",
    "model_with_aug = create_model([img_size, img_size,1],len(classes))\n",
    "\n",
    "training_data_generator = data_generator.flow(x_train, y_train, subset='training')\n",
    "validation_data_generator = data_generator.flow(x_train, y_train, subset='validation')\n",
    "history_augmented = model_with_aug.fit_generator(training_data_generator, \n",
    "                              steps_per_epoch=1024, epochs=10,\n",
    "                              validation_data=validation_data_generator)"
   ]
  },
  {
   "cell_type": "markdown",
   "metadata": {},
   "source": [
    "# Plotting the accuracy and loss of the model with augmentation"
   ]
  },
  {
   "cell_type": "code",
   "execution_count": 35,
   "metadata": {},
   "outputs": [
    {
     "data": {
      "image/png": "[encoded data removed]",
      "text/plain": [
       "<Figure size 432x288 with 1 Axes>"
      ]
     },
     "metadata": {
      "needs_background": "light"
     },
     "output_type": "display_data"
    },
    {
     "data": {
      "image/png": "[encoded data removed]",
      "text/plain": [
       "<Figure size 432x288 with 1 Axes>"
      ]
     },
     "metadata": {
      "needs_background": "light"
     },
     "output_type": "display_data"
    }
   ],
   "source": [
    "plot_history(history_augmented)"
   ]
  },
  {
   "cell_type": "markdown",
   "metadata": {},
   "source": [
    "## Running evaluation on the model with augmentation"
   ]
  },
  {
   "cell_type": "code",
   "execution_count": 36,
   "metadata": {},
   "outputs": [
    {
     "data": {
      "text/plain": [
       "[0.2185841662716781, 0.91412234]"
      ]
     },
     "execution_count": 36,
     "metadata": {},
     "output_type": "execute_result"
    }
   ],
   "source": [
    "x_test, x_test = img_label_load(test_path)\n",
    "test_data_generator = data_generator.flow(x_train, y_train)\n",
    "\n",
    "model.evaluate_generator(test_data_generator)"
   ]
  },
  {
   "cell_type": "markdown",
   "metadata": {},
   "source": [
    "# Saving the model with augmentation"
   ]
  },
  {
   "cell_type": "code",
   "execution_count": 37,
   "metadata": {},
   "outputs": [],
   "source": [
    "model.save('./models/letters_and_digits_91_augmentation.h5')"
   ]
  },
  {
   "cell_type": "markdown",
   "metadata": {},
   "source": [
    "# Testing the classifier on image taken by me"
   ]
  },
  {
   "cell_type": "code",
   "execution_count": 70,
   "metadata": {},
   "outputs": [],
   "source": [
    "from tensorflow.keras.models import load_model\n",
    "model = load_model('./models/letters_and_digits_89.h5')\n",
    "\n",
    "def run_prediction(img, model):\n",
    "    result = np.argmax(model.predict(img))\n",
    "    confidence = max(model.predict(img)[0])\n",
    "    return result, confidence"
   ]
  },
  {
   "cell_type": "code",
   "execution_count": 71,
   "metadata": {},
   "outputs": [],
   "source": [
    "def image_to_emnist(img):\n",
    "    img = img.resize((28, 28), Image.ANTIALIAS).filter(ImageFilter.SHARPEN)\n",
    "    \n",
    "    img_canvas = Image.new('L', (28, 28), (255))\n",
    "    img_canvas.paste(img)\n",
    "    \n",
    "    img_data = list(img_canvas.getdata())\n",
    "\n",
    "    #Normalize pixels to 0 and 1. 0 is pure white, 1 is pure black.\n",
    "    img_normalized = [(255 - x) * 1.0 / 255.0 for x in img_data]\n",
    "    \n",
    "    return img_normalized"
   ]
  },
  {
   "cell_type": "code",
   "execution_count": 76,
   "metadata": {},
   "outputs": [],
   "source": [
    "imgPath = './sample-images/a.jpg'"
   ]
  },
  {
   "cell_type": "code",
   "execution_count": 77,
   "metadata": {},
   "outputs": [],
   "source": [
    "img = Image.open(imgPath)\n",
    "\n",
    "img_emnist = np.array(image_to_emnist(img)).reshape(1,28,28,1)"
   ]
  },
  {
   "cell_type": "code",
   "execution_count": 78,
   "metadata": {},
   "outputs": [
    {
     "name": "stdout",
     "output_type": "stream",
     "text": [
      "36 0.5146539\n"
     ]
    }
   ],
   "source": [
    "result, confidence = run_prediction(img_emnist, model)\n",
    "print(result, confidence)"
   ]
  },
  {
   "cell_type": "code",
   "execution_count": 79,
   "metadata": {},
   "outputs": [
    {
     "name": "stdout",
     "output_type": "stream",
     "text": [
      "Prediction: a , Confidence: 0.5146539\n"
     ]
    },
    {
     "data": {
      "image/png": "[encoded data removed]",
      "text/plain": [
       "<Figure size 432x288 with 1 Axes>"
      ]
     },
     "metadata": {
      "needs_background": "light"
     },
     "output_type": "display_data"
    }
   ],
   "source": [
    "plt.imshow(img_emnist.reshape(28,28), cmap='Greys_r')\n",
    "print('Prediction:', classes[result], ', Confidence:', confidence)"
   ]
  },
  {
   "cell_type": "code",
   "execution_count": null,
   "metadata": {},
   "outputs": [],
   "source": []
  }
 ],
 "metadata": {
  "kernelspec": {
   "display_name": "Python 3",
   "language": "python",
   "name": "python3"
  },
  "language_info": {
   "codemirror_mode": {
    "name": "ipython",
    "version": 3
   },
   "file_extension": ".py",
   "mimetype": "text/x-python",
   "name": "python",
   "nbconvert_exporter": "python",
   "pygments_lexer": "ipython3",
   "version": "3.7.6"
  }
 },
 "nbformat": 4,
 "nbformat_minor": 2
}
